{
 "cells": [
  {
   "cell_type": "code",
   "execution_count": 1,
   "metadata": {},
   "outputs": [],
   "source": [
    "import pandas as pd\n",
    "import matplotlib.pyplot as plt\n",
    "import seaborn as sns\n",
    "import calendar\n",
    "\n",
    "# Ensure plots display inline if using a notebook\n",
    "%matplotlib inline"
   ]
  },
  {
   "cell_type": "code",
   "execution_count": null,
   "metadata": {},
   "outputs": [],
   "source": [
    "# Set the root directory\n",
    "root_dir = \"/Users/duchuyta/Downloads/SAP-CONUHACKS-IX/Data/Raw\"\n",
    "\n",
    "# Load the datasets with the updated paths\n",
    "historical_wf_df = pd.read_csv(f'{root_dir}/historical_wildfiredata.csv')\n",
    "historical_env_df = pd.read_csv(f'{root_dir}//historical_environmental_data.csv') \n",
    "future_env_df = pd.read_csv(f'{root_dir}/future_environmental_data.csv') "
   ]
  },
  {
   "cell_type": "code",
   "execution_count": 3,
   "metadata": {},
   "outputs": [
    {
     "name": "stdout",
     "output_type": "stream",
     "text": [
      "\n",
      "historical_wildfire\n",
      "             timestamp      fire_start_time severity  latitude  longitude\n",
      "0  2020-01-09 03:00:00  2020-01-09 02:20:00      low   45.0836   -73.3206\n",
      "1  2020-02-02 03:00:00  2020-02-02 02:46:00   medium   45.8719   -73.9053\n",
      "2  2020-02-16 17:00:00  2020-02-16 16:57:00      low   44.6907   -73.6182\n",
      "3  2020-02-17 18:00:00  2020-02-17 17:21:00      low   44.4328   -73.9367\n",
      "4  2020-03-08 02:00:00  2020-03-08 01:27:00      low   45.8508   -73.9233\n"
     ]
    }
   ],
   "source": [
    "# Drop location column in historical_wf_df and display the first 5 rows\n",
    "historical_wf_df.drop(columns=['location'], inplace=True)\n",
    "print(\"\\nhistorical_wildfire\")\n",
    "print(historical_wf_df.head())"
   ]
  },
  {
   "cell_type": "code",
   "execution_count": 5,
   "metadata": {},
   "outputs": [
    {
     "name": "stdout",
     "output_type": "stream",
     "text": [
      "\n",
      " historical_environmental\n",
      "             timestamp  temperature  humidity  wind_speed  precipitation  \\\n",
      "0  2020-01-01 00:00:00         22.9        47          18            2.0   \n",
      "1  2020-01-01 01:00:00         35.7        20          32            2.8   \n",
      "2  2020-01-01 02:00:00         34.3        27           8            2.8   \n",
      "3  2020-01-01 03:00:00         35.4        55          17            0.8   \n",
      "4  2020-01-01 04:00:00         27.6        76           5            2.5   \n",
      "\n",
      "   vegetation_index  human_activity_index  latitude  longitude  \n",
      "0                58                     4   44.5894   -73.1827  \n",
      "1                42                    89   45.3780   -73.2715  \n",
      "2                41                    28   44.7343   -73.5796  \n",
      "3                71                    23   44.6310   -72.2996  \n",
      "4                71                     6   45.7226   -73.0740  \n",
      "\n",
      " future_environmental\n",
      "             timestamp  temperature  humidity  wind_speed  precipitation  \\\n",
      "0  2025-01-01 00:00:00         25.5        38          29            2.0   \n",
      "1  2025-01-01 01:00:00         28.2        69          16            2.7   \n",
      "2  2025-01-01 02:00:00         25.6        40          33            3.0   \n",
      "3  2025-01-01 03:00:00         34.0        60          27            2.7   \n",
      "4  2025-01-01 04:00:00         39.7        78           6            0.3   \n",
      "\n",
      "   vegetation_index  human_activity_index  latitude  longitude  \n",
      "0                52                    22   44.4577   -72.1008  \n",
      "1                48                    62   45.8966   -73.4473  \n",
      "2                74                    94   44.7425   -72.3944  \n",
      "3                48                    15   45.4680   -73.9130  \n",
      "4                42                    35   44.6451   -72.1705  \n"
     ]
    }
   ],
   "source": [
    "print(\"\\n historical_environmental\")\n",
    "print(historical_env_df.head())\n",
    "\n",
    "print(\"\\n future_environmental\")\n",
    "print(future_env_df.head())"
   ]
  },
  {
   "cell_type": "code",
   "execution_count": 6,
   "metadata": {},
   "outputs": [
    {
     "name": "stdout",
     "output_type": "stream",
     "text": [
      "              timestamp  temperature  humidity  wind_speed  precipitation  \\\n",
      "0   2020-01-09 03:00:00         38.0        14          40            0.3   \n",
      "1   2020-02-02 03:00:00         37.3        11          33            1.2   \n",
      "2   2020-02-16 17:00:00         35.1        34          39            0.3   \n",
      "3   2020-02-17 18:00:00         38.4        14          37            1.2   \n",
      "4   2020-03-08 02:00:00         34.4        22          25            0.7   \n",
      "..                  ...          ...       ...         ...            ...   \n",
      "128 2023-11-27 21:00:00         38.2        37          39            0.8   \n",
      "129 2023-12-01 01:00:00         36.2        11          24            0.3   \n",
      "130 2023-12-02 08:00:00         39.7        49          34            0.1   \n",
      "131 2023-12-14 05:00:00         39.5        12          36            0.2   \n",
      "132 2023-12-30 12:00:00         37.3        30          36            1.3   \n",
      "\n",
      "     vegetation_index  human_activity_index  latitude  longitude  \n",
      "0                  79                    77   45.0836   -73.3206  \n",
      "1                  54                    89   45.8719   -73.9053  \n",
      "2                  55                    79   44.6907   -73.6182  \n",
      "3                  71                    95   44.4328   -73.9367  \n",
      "4                  70                    97   45.8508   -73.9233  \n",
      "..                ...                   ...       ...        ...  \n",
      "128                78                    82   45.0333   -72.3267  \n",
      "129                76                    72   44.7527   -73.0763  \n",
      "130                79                    61   44.4221   -73.6277  \n",
      "131                60                    49   44.2903   -73.5268  \n",
      "132                73                    80   44.8993   -73.7772  \n",
      "\n",
      "[133 rows x 9 columns]\n"
     ]
    }
   ],
   "source": [
    "# print all the rows in historical_env_df that have the same timestamp as the first row in historical_wf_df and same latitude and longitude in both dataframes\n",
    "\n",
    "# Ensure timestamp columns are in datetime format\n",
    "historical_env_df['timestamp'] = pd.to_datetime(historical_env_df['timestamp'])\n",
    "historical_wf_df['timestamp'] = pd.to_datetime(historical_wf_df['timestamp'])\n",
    "\n",
    "# Merge historical_env_df with historical_wf_df based on timestamp, latitude, and longitude\n",
    "merged_df = pd.merge(\n",
    "    historical_env_df,\n",
    "    historical_wf_df[['timestamp', 'latitude', 'longitude']],\n",
    "    on=['timestamp', 'latitude', 'longitude'],\n",
    "    how='inner'\n",
    ")\n",
    "\n",
    "print(merged_df)\n",
    "\n"
   ]
  },
  {
   "cell_type": "code",
   "execution_count": null,
   "metadata": {},
   "outputs": [],
   "source": []
  }
 ],
 "metadata": {
  "kernelspec": {
   "display_name": "Python 3",
   "language": "python",
   "name": "python3"
  },
  "language_info": {
   "codemirror_mode": {
    "name": "ipython",
    "version": 3
   },
   "file_extension": ".py",
   "mimetype": "text/x-python",
   "name": "python",
   "nbconvert_exporter": "python",
   "pygments_lexer": "ipython3",
   "version": "3.11.10"
  }
 },
 "nbformat": 4,
 "nbformat_minor": 2
}
