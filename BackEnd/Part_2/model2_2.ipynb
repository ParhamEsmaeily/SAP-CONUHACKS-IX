{
 "cells": [
  {
   "cell_type": "code",
   "execution_count": 16,
   "metadata": {},
   "outputs": [
    {
     "name": "stdout",
     "output_type": "stream",
     "text": [
      "F1 Score on Validation Set: 0.6\n",
      "Confusion Matrix:\n",
      "[[10478     2]\n",
      " [   18    15]]\n"
     ]
    }
   ],
   "source": [
    "import os\n",
    "import pandas as pd\n",
    "import numpy as np\n",
    "from sklearn.model_selection import train_test_split\n",
    "from sklearn.ensemble import RandomForestClassifier\n",
    "from sklearn.metrics import f1_score, confusion_matrix\n",
    "\n",
    "# 1. Load data\n",
    "df = pd.read_csv(\"C:\\\\Users\\\\taduc\\\\Downloads\\\\SAP-CONUHACKS-IX\\\\Data\\\\Preprocessed_2\\\\training_df.csv\")\n",
    "# Map severity: convert 2 and 3 to 1\n",
    "df['severity'] = df['severity'].apply(lambda x: 1 if x in [2, 3] else x)\n",
    "# Convert object columns to categorical codes\n",
    "for col in df.columns:\n",
    "    if df[col].dtype == 'object':\n",
    "        df[col] = df[col].astype('category').cat.codes\n",
    "\n",
    "X = df.drop(columns=[\"severity\"]).values\n",
    "y = df[\"severity\"].values\n",
    "\n",
    "# Separate minority (class 1) and majority (class 0) indices\n",
    "minority_indices = np.where(y == 1)[0]\n",
    "majority_indices = np.where(y == 0)[0]\n",
    "\n",
    "# Shuffle minority indices and split: 100 for training and the rest for evaluation\n",
    "shuffled_minority = np.copy(minority_indices)\n",
    "np.random.shuffle(shuffled_minority)\n",
    "min_train = shuffled_minority[:100]\n",
    "min_val = shuffled_minority[100:]\n",
    "\n",
    "# For majority indices, perform an 80/20 split\n",
    "majority_train, majority_val = train_test_split(majority_indices, test_size=0.3, random_state=42)\n",
    "\n",
    "# Drop 30% of the majority class in training by randomly sampling 70% of them\n",
    "np.random.seed(42)\n",
    "num_majority_train = len(majority_train)\n",
    "sample_size = int(0.7 * num_majority_train)\n",
    "majority_train_under = np.random.choice(majority_train, size=sample_size, replace=False)\n",
    "\n",
    "# Combine indices from both groups\n",
    "train_indices = np.concatenate([majority_train_under, min_train])\n",
    "val_indices = np.concatenate([majority_val, min_val])\n",
    "\n",
    "# Create training and evaluation sets\n",
    "X_train = X[train_indices]\n",
    "y_train = y[train_indices]\n",
    "X_val = X[val_indices]\n",
    "y_val = y[val_indices]\n",
    "\n",
    "# Random Forest Classifier with higher weight for class 1\n",
    "rf_model = RandomForestClassifier(n_estimators=50, random_state=42, class_weight={0: 1, 1: 600})\n",
    "rf_model.fit(X_train, y_train)\n",
    "\n",
    "# Predictions on validation set\n",
    "y_pred = rf_model.predict(X_val)\n",
    "\n",
    "# Evaluate performance\n",
    "f1 = f1_score(y_val, y_pred)\n",
    "cm = confusion_matrix(y_val, y_pred)\n",
    "print(\"F1 Score on Validation Set:\", f1)\n",
    "print(\"Confusion Matrix:\")\n",
    "print(cm)"
   ]
  },
  {
   "cell_type": "code",
   "execution_count": null,
   "metadata": {},
   "outputs": [],
   "source": []
  },
  {
   "cell_type": "code",
   "execution_count": null,
   "metadata": {},
   "outputs": [],
   "source": []
  }
 ],
 "metadata": {
  "kernelspec": {
   "display_name": "Python 3",
   "language": "python",
   "name": "python3"
  },
  "language_info": {
   "codemirror_mode": {
    "name": "ipython",
    "version": 3
   },
   "file_extension": ".py",
   "mimetype": "text/x-python",
   "name": "python",
   "nbconvert_exporter": "python",
   "pygments_lexer": "ipython3",
   "version": "3.11.9"
  }
 },
 "nbformat": 4,
 "nbformat_minor": 2
}
