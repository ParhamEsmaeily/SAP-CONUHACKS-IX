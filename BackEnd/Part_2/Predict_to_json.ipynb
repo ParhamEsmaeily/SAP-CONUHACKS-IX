{
 "cells": [
  {
   "cell_type": "code",
   "execution_count": 7,
   "metadata": {},
   "outputs": [],
   "source": [
    "# Only keep the row in C:\\Users\\taduc\\Downloads\\SAP-CONUHACKS-IX\\Data\\Output\\predictions.json if the prediction is not 0\n",
    "import json\n",
    "\n",
    "with open('C:\\\\Users\\\\taduc\\\\Downloads\\\\SAP-CONUHACKS-IX\\\\Data\\\\Output\\\\predictions.json') as f:\n",
    "    data = json.load(f)\n",
    "\n",
    "new_data = []\n",
    "for row in data:\n",
    "    if row['severity'] != 0:\n",
    "        new_data.append(row)\n",
    "\n",
    "with open('C:\\\\Users\\\\taduc\\\\Downloads\\\\SAP-CONUHACKS-IX\\\\Data\\\\Output\\\\predictions_short.json', 'w') as f:\n",
    "    json.dump(new_data, f)\n"
   ]
  }
 ],
 "metadata": {
  "kernelspec": {
   "display_name": "Python 3",
   "language": "python",
   "name": "python3"
  },
  "language_info": {
   "codemirror_mode": {
    "name": "ipython",
    "version": 3
   },
   "file_extension": ".py",
   "mimetype": "text/x-python",
   "name": "python",
   "nbconvert_exporter": "python",
   "pygments_lexer": "ipython3",
   "version": "3.11.9"
  }
 },
 "nbformat": 4,
 "nbformat_minor": 2
}
